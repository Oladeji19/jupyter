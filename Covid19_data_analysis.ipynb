{
 "cells": [
  {
   "cell_type": "code",
   "execution_count": 1,
   "id": "74c66ae7-198b-4427-9461-cc837097b52e",
   "metadata": {},
   "outputs": [],
   "source": [
    "import pandas as pd \n",
    "import numpy as np \n",
    "import seaborn as sns \n",
    "import matplotlib.pyplot as plt "
   ]
  },
  {
   "cell_type": "code",
   "execution_count": 2,
   "id": "21186649-528d-4a5c-8b1d-adf12ee27c4f",
   "metadata": {},
   "outputs": [],
   "source": [
    "data = pd.read_csv(r\"/Users/oladejifagbewesa/Desktop/United_States_COVID-19_Cases_and_Deaths_by_State_over_Time.csv\")"
   ]
  },
  {
   "cell_type": "code",
   "execution_count": 3,
   "id": "88440c69-562f-4075-8ec1-63c10d06f4a9",
   "metadata": {},
   "outputs": [
    {
     "data": {
      "text/html": [
       "<div>\n",
       "<style scoped>\n",
       "    .dataframe tbody tr th:only-of-type {\n",
       "        vertical-align: middle;\n",
       "    }\n",
       "\n",
       "    .dataframe tbody tr th {\n",
       "        vertical-align: top;\n",
       "    }\n",
       "\n",
       "    .dataframe thead th {\n",
       "        text-align: right;\n",
       "    }\n",
       "</style>\n",
       "<table border=\"1\" class=\"dataframe\">\n",
       "  <thead>\n",
       "    <tr style=\"text-align: right;\">\n",
       "      <th></th>\n",
       "      <th>submission_date</th>\n",
       "      <th>state</th>\n",
       "      <th>tot_cases</th>\n",
       "      <th>conf_cases</th>\n",
       "      <th>prob_cases</th>\n",
       "      <th>new_case</th>\n",
       "      <th>pnew_case</th>\n",
       "      <th>tot_death</th>\n",
       "      <th>conf_death</th>\n",
       "      <th>prob_death</th>\n",
       "      <th>new_death</th>\n",
       "      <th>pnew_death</th>\n",
       "      <th>created_at</th>\n",
       "      <th>consent_cases</th>\n",
       "      <th>consent_deaths</th>\n",
       "    </tr>\n",
       "  </thead>\n",
       "  <tbody>\n",
       "    <tr>\n",
       "      <th>0</th>\n",
       "      <td>03/11/2021</td>\n",
       "      <td>KS</td>\n",
       "      <td>297229</td>\n",
       "      <td>241035.0</td>\n",
       "      <td>56194.0</td>\n",
       "      <td>0</td>\n",
       "      <td>0.0</td>\n",
       "      <td>4851</td>\n",
       "      <td>NaN</td>\n",
       "      <td>NaN</td>\n",
       "      <td>0</td>\n",
       "      <td>0.0</td>\n",
       "      <td>03/12/2021 03:20:13 PM</td>\n",
       "      <td>Agree</td>\n",
       "      <td>NaN</td>\n",
       "    </tr>\n",
       "    <tr>\n",
       "      <th>1</th>\n",
       "      <td>02/12/2021</td>\n",
       "      <td>UT</td>\n",
       "      <td>359641</td>\n",
       "      <td>359641.0</td>\n",
       "      <td>0.0</td>\n",
       "      <td>1060</td>\n",
       "      <td>0.0</td>\n",
       "      <td>1785</td>\n",
       "      <td>1729.0</td>\n",
       "      <td>56.0</td>\n",
       "      <td>11</td>\n",
       "      <td>2.0</td>\n",
       "      <td>02/13/2021 02:50:08 PM</td>\n",
       "      <td>Agree</td>\n",
       "      <td>Agree</td>\n",
       "    </tr>\n",
       "    <tr>\n",
       "      <th>2</th>\n",
       "      <td>02/04/2020</td>\n",
       "      <td>AR</td>\n",
       "      <td>0</td>\n",
       "      <td>NaN</td>\n",
       "      <td>NaN</td>\n",
       "      <td>0</td>\n",
       "      <td>NaN</td>\n",
       "      <td>0</td>\n",
       "      <td>NaN</td>\n",
       "      <td>NaN</td>\n",
       "      <td>0</td>\n",
       "      <td>NaN</td>\n",
       "      <td>03/26/2020 04:22:39 PM</td>\n",
       "      <td>Not agree</td>\n",
       "      <td>Not agree</td>\n",
       "    </tr>\n",
       "    <tr>\n",
       "      <th>3</th>\n",
       "      <td>08/22/2020</td>\n",
       "      <td>AR</td>\n",
       "      <td>56199</td>\n",
       "      <td>NaN</td>\n",
       "      <td>NaN</td>\n",
       "      <td>547</td>\n",
       "      <td>0.0</td>\n",
       "      <td>674</td>\n",
       "      <td>NaN</td>\n",
       "      <td>NaN</td>\n",
       "      <td>11</td>\n",
       "      <td>0.0</td>\n",
       "      <td>08/23/2020 02:15:28 PM</td>\n",
       "      <td>Not agree</td>\n",
       "      <td>Not agree</td>\n",
       "    </tr>\n",
       "    <tr>\n",
       "      <th>4</th>\n",
       "      <td>12/06/2021</td>\n",
       "      <td>MP</td>\n",
       "      <td>1104</td>\n",
       "      <td>1104.0</td>\n",
       "      <td>0.0</td>\n",
       "      <td>0</td>\n",
       "      <td>0.0</td>\n",
       "      <td>5</td>\n",
       "      <td>5.0</td>\n",
       "      <td>0.0</td>\n",
       "      <td>2</td>\n",
       "      <td>0.0</td>\n",
       "      <td>12/08/2021 12:00:00 AM</td>\n",
       "      <td>Agree</td>\n",
       "      <td>Agree</td>\n",
       "    </tr>\n",
       "  </tbody>\n",
       "</table>\n",
       "</div>"
      ],
      "text/plain": [
       "  submission_date state  tot_cases  conf_cases  prob_cases  new_case  \\\n",
       "0      03/11/2021    KS     297229    241035.0     56194.0         0   \n",
       "1      02/12/2021    UT     359641    359641.0         0.0      1060   \n",
       "2      02/04/2020    AR          0         NaN         NaN         0   \n",
       "3      08/22/2020    AR      56199         NaN         NaN       547   \n",
       "4      12/06/2021    MP       1104      1104.0         0.0         0   \n",
       "\n",
       "   pnew_case  tot_death  conf_death  prob_death  new_death  pnew_death  \\\n",
       "0        0.0       4851         NaN         NaN          0         0.0   \n",
       "1        0.0       1785      1729.0        56.0         11         2.0   \n",
       "2        NaN          0         NaN         NaN          0         NaN   \n",
       "3        0.0        674         NaN         NaN         11         0.0   \n",
       "4        0.0          5         5.0         0.0          2         0.0   \n",
       "\n",
       "               created_at consent_cases consent_deaths  \n",
       "0  03/12/2021 03:20:13 PM         Agree            NaN  \n",
       "1  02/13/2021 02:50:08 PM         Agree          Agree  \n",
       "2  03/26/2020 04:22:39 PM     Not agree      Not agree  \n",
       "3  08/23/2020 02:15:28 PM     Not agree      Not agree  \n",
       "4  12/08/2021 12:00:00 AM         Agree          Agree  "
      ]
     },
     "execution_count": 3,
     "metadata": {},
     "output_type": "execute_result"
    }
   ],
   "source": [
    "data.head()"
   ]
  },
  {
   "cell_type": "code",
   "execution_count": 4,
   "id": "30b399b6-f751-4712-9f05-3493f35b70c6",
   "metadata": {},
   "outputs": [
    {
     "data": {
      "text/plain": [
       "Index(['submission_date', 'state', 'tot_cases', 'conf_cases', 'prob_cases',\n",
       "       'new_case', 'pnew_case', 'tot_death', 'conf_death', 'prob_death',\n",
       "       'new_death', 'pnew_death', 'created_at', 'consent_cases',\n",
       "       'consent_deaths'],\n",
       "      dtype='object')"
      ]
     },
     "execution_count": 4,
     "metadata": {},
     "output_type": "execute_result"
    }
   ],
   "source": [
    "data.columns"
   ]
  },
  {
   "cell_type": "code",
   "execution_count": 5,
   "id": "6a7b506b-c59f-4be5-9156-d6c61821ac3f",
   "metadata": {},
   "outputs": [
    {
     "data": {
      "text/html": [
       "<div>\n",
       "<style scoped>\n",
       "    .dataframe tbody tr th:only-of-type {\n",
       "        vertical-align: middle;\n",
       "    }\n",
       "\n",
       "    .dataframe tbody tr th {\n",
       "        vertical-align: top;\n",
       "    }\n",
       "\n",
       "    .dataframe thead th {\n",
       "        text-align: right;\n",
       "    }\n",
       "</style>\n",
       "<table border=\"1\" class=\"dataframe\">\n",
       "  <thead>\n",
       "    <tr style=\"text-align: right;\">\n",
       "      <th></th>\n",
       "      <th>submission_date</th>\n",
       "      <th>state</th>\n",
       "      <th>tot_cases</th>\n",
       "      <th>conf_cases</th>\n",
       "      <th>prob_cases</th>\n",
       "      <th>new_case</th>\n",
       "      <th>pnew_case</th>\n",
       "      <th>tot_death</th>\n",
       "      <th>conf_death</th>\n",
       "      <th>prob_death</th>\n",
       "      <th>new_death</th>\n",
       "      <th>pnew_death</th>\n",
       "      <th>created_at</th>\n",
       "      <th>consent_cases</th>\n",
       "      <th>consent_deaths</th>\n",
       "    </tr>\n",
       "  </thead>\n",
       "  <tbody>\n",
       "    <tr>\n",
       "      <th>46915</th>\n",
       "      <td>06/07/2020</td>\n",
       "      <td>SD</td>\n",
       "      <td>5438</td>\n",
       "      <td>NaN</td>\n",
       "      <td>NaN</td>\n",
       "      <td>71</td>\n",
       "      <td>0.0</td>\n",
       "      <td>65</td>\n",
       "      <td>64.0</td>\n",
       "      <td>1.0</td>\n",
       "      <td>0</td>\n",
       "      <td>1.0</td>\n",
       "      <td>06/08/2020 02:55:08 PM</td>\n",
       "      <td>NaN</td>\n",
       "      <td>Agree</td>\n",
       "    </tr>\n",
       "    <tr>\n",
       "      <th>46916</th>\n",
       "      <td>12/28/2021</td>\n",
       "      <td>NY</td>\n",
       "      <td>1833465</td>\n",
       "      <td>NaN</td>\n",
       "      <td>NaN</td>\n",
       "      <td>13006</td>\n",
       "      <td>0.0</td>\n",
       "      <td>23446</td>\n",
       "      <td>NaN</td>\n",
       "      <td>NaN</td>\n",
       "      <td>42</td>\n",
       "      <td>0.0</td>\n",
       "      <td>12/29/2021 02:30:55 PM</td>\n",
       "      <td>Not agree</td>\n",
       "      <td>Not agree</td>\n",
       "    </tr>\n",
       "    <tr>\n",
       "      <th>46917</th>\n",
       "      <td>09/25/2021</td>\n",
       "      <td>RMI</td>\n",
       "      <td>4</td>\n",
       "      <td>4.0</td>\n",
       "      <td>0.0</td>\n",
       "      <td>0</td>\n",
       "      <td>0.0</td>\n",
       "      <td>0</td>\n",
       "      <td>0.0</td>\n",
       "      <td>0.0</td>\n",
       "      <td>0</td>\n",
       "      <td>0.0</td>\n",
       "      <td>09/27/2021 01:21:43 PM</td>\n",
       "      <td>Agree</td>\n",
       "      <td>Agree</td>\n",
       "    </tr>\n",
       "    <tr>\n",
       "      <th>46918</th>\n",
       "      <td>03/10/2021</td>\n",
       "      <td>SD</td>\n",
       "      <td>113962</td>\n",
       "      <td>NaN</td>\n",
       "      <td>NaN</td>\n",
       "      <td>209</td>\n",
       "      <td>37.0</td>\n",
       "      <td>1904</td>\n",
       "      <td>1546.0</td>\n",
       "      <td>358.0</td>\n",
       "      <td>3</td>\n",
       "      <td>0.0</td>\n",
       "      <td>03/11/2021 03:36:21 PM</td>\n",
       "      <td>NaN</td>\n",
       "      <td>Agree</td>\n",
       "    </tr>\n",
       "    <tr>\n",
       "      <th>46919</th>\n",
       "      <td>05/27/2021</td>\n",
       "      <td>OH</td>\n",
       "      <td>1100312</td>\n",
       "      <td>921199.0</td>\n",
       "      <td>179113.0</td>\n",
       "      <td>732</td>\n",
       "      <td>196.0</td>\n",
       "      <td>19753</td>\n",
       "      <td>19753.0</td>\n",
       "      <td>0.0</td>\n",
       "      <td>0</td>\n",
       "      <td>0.0</td>\n",
       "      <td>05/28/2021 01:29:21 PM</td>\n",
       "      <td>Agree</td>\n",
       "      <td>Agree</td>\n",
       "    </tr>\n",
       "  </tbody>\n",
       "</table>\n",
       "</div>"
      ],
      "text/plain": [
       "      submission_date state  tot_cases  conf_cases  prob_cases  new_case  \\\n",
       "46915      06/07/2020    SD       5438         NaN         NaN        71   \n",
       "46916      12/28/2021    NY    1833465         NaN         NaN     13006   \n",
       "46917      09/25/2021   RMI          4         4.0         0.0         0   \n",
       "46918      03/10/2021    SD     113962         NaN         NaN       209   \n",
       "46919      05/27/2021    OH    1100312    921199.0    179113.0       732   \n",
       "\n",
       "       pnew_case  tot_death  conf_death  prob_death  new_death  pnew_death  \\\n",
       "46915        0.0         65        64.0         1.0          0         1.0   \n",
       "46916        0.0      23446         NaN         NaN         42         0.0   \n",
       "46917        0.0          0         0.0         0.0          0         0.0   \n",
       "46918       37.0       1904      1546.0       358.0          3         0.0   \n",
       "46919      196.0      19753     19753.0         0.0          0         0.0   \n",
       "\n",
       "                   created_at consent_cases consent_deaths  \n",
       "46915  06/08/2020 02:55:08 PM           NaN          Agree  \n",
       "46916  12/29/2021 02:30:55 PM     Not agree      Not agree  \n",
       "46917  09/27/2021 01:21:43 PM         Agree          Agree  \n",
       "46918  03/11/2021 03:36:21 PM           NaN          Agree  \n",
       "46919  05/28/2021 01:29:21 PM         Agree          Agree  "
      ]
     },
     "execution_count": 5,
     "metadata": {},
     "output_type": "execute_result"
    }
   ],
   "source": [
    "data.tail()"
   ]
  },
  {
   "cell_type": "code",
   "execution_count": 6,
   "id": "0a13229e-566d-4ce7-91ce-fc9a4dcf4062",
   "metadata": {},
   "outputs": [
    {
     "data": {
      "text/html": [
       "<div>\n",
       "<style scoped>\n",
       "    .dataframe tbody tr th:only-of-type {\n",
       "        vertical-align: middle;\n",
       "    }\n",
       "\n",
       "    .dataframe tbody tr th {\n",
       "        vertical-align: top;\n",
       "    }\n",
       "\n",
       "    .dataframe thead th {\n",
       "        text-align: right;\n",
       "    }\n",
       "</style>\n",
       "<table border=\"1\" class=\"dataframe\">\n",
       "  <thead>\n",
       "    <tr style=\"text-align: right;\">\n",
       "      <th></th>\n",
       "      <th>tot_cases</th>\n",
       "      <th>conf_cases</th>\n",
       "      <th>prob_cases</th>\n",
       "      <th>new_case</th>\n",
       "      <th>pnew_case</th>\n",
       "      <th>tot_death</th>\n",
       "      <th>conf_death</th>\n",
       "      <th>prob_death</th>\n",
       "      <th>new_death</th>\n",
       "      <th>pnew_death</th>\n",
       "    </tr>\n",
       "  </thead>\n",
       "  <tbody>\n",
       "    <tr>\n",
       "      <th>count</th>\n",
       "      <td>4.692000e+04</td>\n",
       "      <td>2.567300e+04</td>\n",
       "      <td>25601.000000</td>\n",
       "      <td>46920.000000</td>\n",
       "      <td>43136.000000</td>\n",
       "      <td>46920.000000</td>\n",
       "      <td>25303.000000</td>\n",
       "      <td>25303.000000</td>\n",
       "      <td>46920.000000</td>\n",
       "      <td>43121.000000</td>\n",
       "    </tr>\n",
       "    <tr>\n",
       "      <th>mean</th>\n",
       "      <td>4.306415e+05</td>\n",
       "      <td>4.476553e+05</td>\n",
       "      <td>63687.287723</td>\n",
       "      <td>1681.490452</td>\n",
       "      <td>269.326943</td>\n",
       "      <td>7215.808994</td>\n",
       "      <td>7571.688930</td>\n",
       "      <td>825.253172</td>\n",
       "      <td>20.140963</td>\n",
       "      <td>2.063357</td>\n",
       "    </tr>\n",
       "    <tr>\n",
       "      <th>std</th>\n",
       "      <td>7.881207e+05</td>\n",
       "      <td>7.304531e+05</td>\n",
       "      <td>99959.816356</td>\n",
       "      <td>5374.771999</td>\n",
       "      <td>1584.931622</td>\n",
       "      <td>11799.416629</td>\n",
       "      <td>9589.868691</td>\n",
       "      <td>1236.699050</td>\n",
       "      <td>47.525042</td>\n",
       "      <td>27.688949</td>\n",
       "    </tr>\n",
       "    <tr>\n",
       "      <th>min</th>\n",
       "      <td>0.000000e+00</td>\n",
       "      <td>0.000000e+00</td>\n",
       "      <td>0.000000</td>\n",
       "      <td>-10199.000000</td>\n",
       "      <td>-171804.000000</td>\n",
       "      <td>0.000000</td>\n",
       "      <td>0.000000</td>\n",
       "      <td>0.000000</td>\n",
       "      <td>-352.000000</td>\n",
       "      <td>-2594.000000</td>\n",
       "    </tr>\n",
       "    <tr>\n",
       "      <th>25%</th>\n",
       "      <td>7.987250e+03</td>\n",
       "      <td>4.355900e+04</td>\n",
       "      <td>41.000000</td>\n",
       "      <td>28.000000</td>\n",
       "      <td>0.000000</td>\n",
       "      <td>162.000000</td>\n",
       "      <td>870.500000</td>\n",
       "      <td>0.000000</td>\n",
       "      <td>0.000000</td>\n",
       "      <td>0.000000</td>\n",
       "    </tr>\n",
       "    <tr>\n",
       "      <th>50%</th>\n",
       "      <td>1.321555e+05</td>\n",
       "      <td>1.983300e+05</td>\n",
       "      <td>12590.000000</td>\n",
       "      <td>391.000000</td>\n",
       "      <td>4.000000</td>\n",
       "      <td>2244.500000</td>\n",
       "      <td>3915.000000</td>\n",
       "      <td>231.000000</td>\n",
       "      <td>4.000000</td>\n",
       "      <td>0.000000</td>\n",
       "    </tr>\n",
       "    <tr>\n",
       "      <th>75%</th>\n",
       "      <td>5.340890e+05</td>\n",
       "      <td>6.130760e+05</td>\n",
       "      <td>94775.000000</td>\n",
       "      <td>1457.000000</td>\n",
       "      <td>176.000000</td>\n",
       "      <td>9085.000000</td>\n",
       "      <td>10692.000000</td>\n",
       "      <td>1125.000000</td>\n",
       "      <td>20.000000</td>\n",
       "      <td>1.000000</td>\n",
       "    </tr>\n",
       "    <tr>\n",
       "      <th>max</th>\n",
       "      <td>9.019412e+06</td>\n",
       "      <td>8.426700e+06</td>\n",
       "      <td>599278.000000</td>\n",
       "      <td>319809.000000</td>\n",
       "      <td>171617.000000</td>\n",
       "      <td>86387.000000</td>\n",
       "      <td>71408.000000</td>\n",
       "      <td>6452.000000</td>\n",
       "      <td>1178.000000</td>\n",
       "      <td>2919.000000</td>\n",
       "    </tr>\n",
       "  </tbody>\n",
       "</table>\n",
       "</div>"
      ],
      "text/plain": [
       "          tot_cases    conf_cases     prob_cases       new_case  \\\n",
       "count  4.692000e+04  2.567300e+04   25601.000000   46920.000000   \n",
       "mean   4.306415e+05  4.476553e+05   63687.287723    1681.490452   \n",
       "std    7.881207e+05  7.304531e+05   99959.816356    5374.771999   \n",
       "min    0.000000e+00  0.000000e+00       0.000000  -10199.000000   \n",
       "25%    7.987250e+03  4.355900e+04      41.000000      28.000000   \n",
       "50%    1.321555e+05  1.983300e+05   12590.000000     391.000000   \n",
       "75%    5.340890e+05  6.130760e+05   94775.000000    1457.000000   \n",
       "max    9.019412e+06  8.426700e+06  599278.000000  319809.000000   \n",
       "\n",
       "           pnew_case     tot_death    conf_death    prob_death     new_death  \\\n",
       "count   43136.000000  46920.000000  25303.000000  25303.000000  46920.000000   \n",
       "mean      269.326943   7215.808994   7571.688930    825.253172     20.140963   \n",
       "std      1584.931622  11799.416629   9589.868691   1236.699050     47.525042   \n",
       "min   -171804.000000      0.000000      0.000000      0.000000   -352.000000   \n",
       "25%         0.000000    162.000000    870.500000      0.000000      0.000000   \n",
       "50%         4.000000   2244.500000   3915.000000    231.000000      4.000000   \n",
       "75%       176.000000   9085.000000  10692.000000   1125.000000     20.000000   \n",
       "max    171617.000000  86387.000000  71408.000000   6452.000000   1178.000000   \n",
       "\n",
       "         pnew_death  \n",
       "count  43121.000000  \n",
       "mean       2.063357  \n",
       "std       27.688949  \n",
       "min    -2594.000000  \n",
       "25%        0.000000  \n",
       "50%        0.000000  \n",
       "75%        1.000000  \n",
       "max     2919.000000  "
      ]
     },
     "execution_count": 6,
     "metadata": {},
     "output_type": "execute_result"
    }
   ],
   "source": [
    "data.describe()"
   ]
  },
  {
   "cell_type": "code",
   "execution_count": 7,
   "id": "ab4d415f-8a07-4bd8-9fd5-54a0cfad1499",
   "metadata": {},
   "outputs": [
    {
     "data": {
      "text/plain": [
       "Index(['submission_date', 'state', 'tot_cases', 'conf_cases', 'prob_cases',\n",
       "       'new_case', 'pnew_case', 'tot_death', 'conf_death', 'prob_death',\n",
       "       'new_death', 'pnew_death', 'created_at', 'consent_cases',\n",
       "       'consent_deaths'],\n",
       "      dtype='object')"
      ]
     },
     "execution_count": 7,
     "metadata": {},
     "output_type": "execute_result"
    }
   ],
   "source": [
    "data.columns"
   ]
  },
  {
   "cell_type": "code",
   "execution_count": 8,
   "id": "7fcdabb2-d0f2-41f7-b654-e57c2dc9b1fa",
   "metadata": {},
   "outputs": [
    {
     "data": {
      "text/plain": [
       "submission_date        0\n",
       "state                  0\n",
       "tot_cases              0\n",
       "conf_cases         21247\n",
       "prob_cases         21319\n",
       "new_case               0\n",
       "pnew_case           3784\n",
       "tot_death              0\n",
       "conf_death         21617\n",
       "prob_death         21617\n",
       "new_death              0\n",
       "pnew_death          3799\n",
       "created_at             0\n",
       "consent_cases       7825\n",
       "consent_deaths      7038\n",
       "dtype: int64"
      ]
     },
     "execution_count": 8,
     "metadata": {},
     "output_type": "execute_result"
    }
   ],
   "source": [
    "data.isnull().sum()"
   ]
  },
  {
   "cell_type": "code",
   "execution_count": 9,
   "id": "9762ee09-c371-40e9-8eaa-a4d68f82a717",
   "metadata": {},
   "outputs": [
    {
     "data": {
      "text/plain": [
       "Index(['submission_date', 'state', 'tot_cases', 'conf_cases', 'prob_cases',\n",
       "       'new_case', 'pnew_case', 'tot_death', 'conf_death', 'prob_death',\n",
       "       'new_death', 'pnew_death', 'created_at', 'consent_cases',\n",
       "       'consent_deaths'],\n",
       "      dtype='object')"
      ]
     },
     "execution_count": 9,
     "metadata": {},
     "output_type": "execute_result"
    }
   ],
   "source": [
    "data.columns"
   ]
  },
  {
   "cell_type": "markdown",
   "id": "b291d011-d564-4e3c-80c2-53c0c816e948",
   "metadata": {},
   "source": [
    "# relating the variables to represent scatterplots"
   ]
  },
  {
   "cell_type": "code",
   "execution_count": 10,
   "id": "88ccf57f-dce4-486d-a760-49b1dee843b4",
   "metadata": {},
   "outputs": [
    {
     "data": {
      "text/plain": [
       "<seaborn.axisgrid.FacetGrid at 0x7fa5a884fc70>"
      ]
     },
     "execution_count": 10,
     "metadata": {},
     "output_type": "execute_result"
    },
    {
     "data": {
      "image/png": "[encoded data removed]",
      "text/plain": [
       "<Figure size 442.625x360 with 1 Axes>"
      ]
     },
     "metadata": {
      "needs_background": "light"
     },
     "output_type": "display_data"
    }
   ],
   "source": [
    "sns.relplot(x=\"tot_cases\", y=\"tot_death\", hue='pnew_case', data=data)"
   ]
  },
  {
   "cell_type": "code",
   "execution_count": 11,
   "id": "2228b56c-8d0f-455d-ac66-06dd83da1c63",
   "metadata": {},
   "outputs": [
    {
     "data": {
      "text/plain": [
       "Index(['submission_date', 'state', 'tot_cases', 'conf_cases', 'prob_cases',\n",
       "       'new_case', 'pnew_case', 'tot_death', 'conf_death', 'prob_death',\n",
       "       'new_death', 'pnew_death', 'created_at', 'consent_cases',\n",
       "       'consent_deaths'],\n",
       "      dtype='object')"
      ]
     },
     "execution_count": 11,
     "metadata": {},
     "output_type": "execute_result"
    }
   ],
   "source": [
    "data.columns"
   ]
  },
  {
   "cell_type": "code",
   "execution_count": null,
   "id": "10081f2a-d9dd-4b98-9ee7-b6330f848a8b",
   "metadata": {},
   "outputs": [],
   "source": [
    "sns.pairplot(data)"
   ]
  },
  {
   "cell_type": "code",
   "execution_count": null,
   "id": "568b6e2d-40cb-49a3-866b-1a2b63fee389",
   "metadata": {},
   "outputs": [],
   "source": [
    "sns.relplot(x='tot_cases', y='tot_death', data=data)"
   ]
  },
  {
   "cell_type": "code",
   "execution_count": null,
   "id": "9d155e4e-27a3-48c9-ad97-7fb5acbe0e50",
   "metadata": {
    "tags": []
   },
   "outputs": [],
   "source": [
    "data.columns"
   ]
  },
  {
   "cell_type": "code",
   "execution_count": null,
   "id": "7d5c5b26-f1a6-4dc5-bae4-941ce0813af1",
   "metadata": {},
   "outputs": [],
   "source": [
    "sns.catplot(x='consent_cases', y='conf_death', data=data)"
   ]
  }
 ],
 "metadata": {
  "kernelspec": {
   "display_name": "Python 3 (ipykernel)",
   "language": "python",
   "name": "python3"
  },
  "language_info": {
   "codemirror_mode": {
    "name": "ipython",
    "version": 3
   },
   "file_extension": ".py",
   "mimetype": "text/x-python",
   "name": "python",
   "nbconvert_exporter": "python",
   "pygments_lexer": "ipython3",
   "version": "3.9.7"
  }
 },
 "nbformat": 4,
 "nbformat_minor": 5
}
